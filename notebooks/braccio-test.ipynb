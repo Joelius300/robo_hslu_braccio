{
 "cells": [
  {
   "cell_type": "markdown",
   "id": "01c479fb",
   "metadata": {},
   "source": [
    "## Bibliothek importieren"
   ]
  },
  {
   "cell_type": "code",
   "execution_count": 1,
   "id": "df096f19",
   "metadata": {},
   "outputs": [],
   "source": [
    "import serial as ser"
   ]
  },
  {
   "cell_type": "markdown",
   "id": "b96dcab2",
   "metadata": {},
   "source": [
    "# Roboter UNBEDINGT senkrecht stellen!"
   ]
  },
  {
   "cell_type": "markdown",
   "id": "bbe9f746",
   "metadata": {},
   "source": [
    "## Seriellen Port öffnen"
   ]
  },
  {
   "cell_type": "code",
   "execution_count": 55,
   "id": "f47c2e58",
   "metadata": {},
   "outputs": [],
   "source": [
    "s = ser.Serial ('/dev/ttyACM2', baudrate = 9600, parity = 'N', bytesize = 8, stopbits = 1, timeout = None)"
   ]
  },
  {
   "cell_type": "code",
   "execution_count": 56,
   "id": "e121e8d8-bfae-402b-bc4b-48dc94096fa4",
   "metadata": {},
   "outputs": [],
   "source": [
    "s.close()"
   ]
  },
  {
   "cell_type": "markdown",
   "id": "f8be3be6",
   "metadata": {},
   "source": [
    "## Ein paar Sekunden warten"
   ]
  },
  {
   "cell_type": "markdown",
   "id": "ed897dd7",
   "metadata": {},
   "source": [
    "## ersten Befehl senden"
   ]
  },
  {
   "cell_type": "code",
   "execution_count": 29,
   "id": "2acdd39e",
   "metadata": {
    "scrolled": true
   },
   "outputs": [
    {
     "data": {
      "text/plain": [
       "31"
      ]
     },
     "execution_count": 29,
     "metadata": {},
     "output_type": "execute_result"
    }
   ],
   "source": [
    "s.write (b'500 b 165 s 0 e 0 v 90 w 73 g\\r\\n')"
   ]
  },
  {
   "cell_type": "markdown",
   "id": "aad90261",
   "metadata": {},
   "source": [
    "## zweiten Befehl senden"
   ]
  },
  {
   "cell_type": "code",
   "execution_count": 48,
   "id": "8e87d6f9",
   "metadata": {},
   "outputs": [
    {
     "name": "stdout",
     "output_type": "stream",
     "text": [
      "Bytes: 393020622030207320302065203020762030207720313020670d0a\n"
     ]
    }
   ],
   "source": [
    "b = b'90 b 0 s 0 e 0 v 0 w 10 g\\r\\n'\n",
    "print(\"Bytes:\", b.hex())\n",
    "# s.write (b)"
   ]
  },
  {
   "cell_type": "code",
   "execution_count": 45,
   "id": "85a5a194-c59f-4510-9e46-1254114a27f0",
   "metadata": {},
   "outputs": [
    {
     "data": {
      "text/plain": [
       "27"
      ]
     },
     "execution_count": 45,
     "metadata": {},
     "output_type": "execute_result"
    }
   ],
   "source": [
    "p =  '0 b 0 s 0 e 0 v 0 w 10 g\\r\\n'\n",
    "p = '90 b 0 s 0 e 0 v 0 w 10 g\\r\\n'\n",
    "s.write(p.encode('ASCII'))"
   ]
  },
  {
   "cell_type": "markdown",
   "id": "c0738692",
   "metadata": {},
   "source": [
    "## Port schliessen"
   ]
  },
  {
   "cell_type": "code",
   "execution_count": 12,
   "id": "2ef32a66",
   "metadata": {},
   "outputs": [],
   "source": [
    "s.close()"
   ]
  }
 ],
 "metadata": {
  "kernelspec": {
   "display_name": "Python 3 (ipykernel)",
   "language": "python",
   "name": "python3"
  },
  "language_info": {
   "codemirror_mode": {
    "name": "ipython",
    "version": 3
   },
   "file_extension": ".py",
   "mimetype": "text/x-python",
   "name": "python",
   "nbconvert_exporter": "python",
   "pygments_lexer": "ipython3",
   "version": "3.10.8"
  }
 },
 "nbformat": 4,
 "nbformat_minor": 5
}
